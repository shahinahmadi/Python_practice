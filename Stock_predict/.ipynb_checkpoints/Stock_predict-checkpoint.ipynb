{
 "cells": [
  {
   "cell_type": "code",
   "execution_count": 4,
   "metadata": {},
   "outputs": [],
   "source": [
    "import math\n",
    "import pandas_datareader as web\n",
    "import numpy as np\n",
    "import pandas as pd\n",
    "from sklearn.preprocessing import MinMaxScaler\n",
    "import keras\n",
    "from keras.models import Sequential\n",
    "from keras.layers import Dense, LSTM\n",
    "import matplotlib.pyplot as plt\n",
    "#plt.style.use('fivethirtyeight')"
   ]
  },
  {
   "cell_type": "code",
   "execution_count": 5,
   "metadata": {},
   "outputs": [
    {
     "data": {
      "text/html": [
       "<div>\n",
       "<style scoped>\n",
       "    .dataframe tbody tr th:only-of-type {\n",
       "        vertical-align: middle;\n",
       "    }\n",
       "\n",
       "    .dataframe tbody tr th {\n",
       "        vertical-align: top;\n",
       "    }\n",
       "\n",
       "    .dataframe thead th {\n",
       "        text-align: right;\n",
       "    }\n",
       "</style>\n",
       "<table border=\"1\" class=\"dataframe\">\n",
       "  <thead>\n",
       "    <tr style=\"text-align: right;\">\n",
       "      <th></th>\n",
       "      <th>&lt;TICKER&gt;</th>\n",
       "      <th>&lt;DTYYYYMMDD&gt;</th>\n",
       "      <th>&lt;FIRST&gt;</th>\n",
       "      <th>&lt;HIGH&gt;</th>\n",
       "      <th>&lt;LOW&gt;</th>\n",
       "      <th>&lt;CLOSE&gt;</th>\n",
       "      <th>&lt;VALUE&gt;</th>\n",
       "      <th>&lt;VOL&gt;</th>\n",
       "      <th>&lt;OPENINT&gt;</th>\n",
       "      <th>&lt;PER&gt;</th>\n",
       "      <th>&lt;OPEN&gt;</th>\n",
       "      <th>&lt;LAST&gt;</th>\n",
       "    </tr>\n",
       "  </thead>\n",
       "  <tbody>\n",
       "    <tr>\n",
       "      <th>1511</th>\n",
       "      <td>Day.Bank</td>\n",
       "      <td>20110712</td>\n",
       "      <td>2000.0</td>\n",
       "      <td>2000.0</td>\n",
       "      <td>1420.0</td>\n",
       "      <td>1611.0</td>\n",
       "      <td>18438010461</td>\n",
       "      <td>11442234</td>\n",
       "      <td>2657</td>\n",
       "      <td>D</td>\n",
       "      <td>1000.0</td>\n",
       "      <td>1499.0</td>\n",
       "    </tr>\n",
       "    <tr>\n",
       "      <th>1510</th>\n",
       "      <td>Day.Bank</td>\n",
       "      <td>20110718</td>\n",
       "      <td>1400.0</td>\n",
       "      <td>1499.0</td>\n",
       "      <td>1349.0</td>\n",
       "      <td>1380.0</td>\n",
       "      <td>5508636050</td>\n",
       "      <td>3991789</td>\n",
       "      <td>836</td>\n",
       "      <td>D</td>\n",
       "      <td>1521.0</td>\n",
       "      <td>1350.0</td>\n",
       "    </tr>\n",
       "    <tr>\n",
       "      <th>1509</th>\n",
       "      <td>Day.Bank</td>\n",
       "      <td>20110719</td>\n",
       "      <td>1400.0</td>\n",
       "      <td>1400.0</td>\n",
       "      <td>1330.0</td>\n",
       "      <td>1359.0</td>\n",
       "      <td>3485136683</td>\n",
       "      <td>2565040</td>\n",
       "      <td>740</td>\n",
       "      <td>D</td>\n",
       "      <td>1380.0</td>\n",
       "      <td>1331.0</td>\n",
       "    </tr>\n",
       "    <tr>\n",
       "      <th>1508</th>\n",
       "      <td>Day.Bank</td>\n",
       "      <td>20110720</td>\n",
       "      <td>1368.0</td>\n",
       "      <td>1368.0</td>\n",
       "      <td>1305.0</td>\n",
       "      <td>1318.0</td>\n",
       "      <td>1705751719</td>\n",
       "      <td>1294658</td>\n",
       "      <td>340</td>\n",
       "      <td>D</td>\n",
       "      <td>1359.0</td>\n",
       "      <td>1310.0</td>\n",
       "    </tr>\n",
       "    <tr>\n",
       "      <th>1507</th>\n",
       "      <td>Day.Bank</td>\n",
       "      <td>20110723</td>\n",
       "      <td>1305.0</td>\n",
       "      <td>1322.0</td>\n",
       "      <td>1292.0</td>\n",
       "      <td>1307.0</td>\n",
       "      <td>1479387908</td>\n",
       "      <td>1131786</td>\n",
       "      <td>276</td>\n",
       "      <td>D</td>\n",
       "      <td>1318.0</td>\n",
       "      <td>1310.0</td>\n",
       "    </tr>\n",
       "    <tr>\n",
       "      <th>...</th>\n",
       "      <td>...</td>\n",
       "      <td>...</td>\n",
       "      <td>...</td>\n",
       "      <td>...</td>\n",
       "      <td>...</td>\n",
       "      <td>...</td>\n",
       "      <td>...</td>\n",
       "      <td>...</td>\n",
       "      <td>...</td>\n",
       "      <td>...</td>\n",
       "      <td>...</td>\n",
       "      <td>...</td>\n",
       "    </tr>\n",
       "    <tr>\n",
       "      <th>4</th>\n",
       "      <td>Day.Bank</td>\n",
       "      <td>20200928</td>\n",
       "      <td>51178.0</td>\n",
       "      <td>51178.0</td>\n",
       "      <td>51178.0</td>\n",
       "      <td>51178.0</td>\n",
       "      <td>106480844444</td>\n",
       "      <td>2080598</td>\n",
       "      <td>1290</td>\n",
       "      <td>D</td>\n",
       "      <td>53871.0</td>\n",
       "      <td>51178.0</td>\n",
       "    </tr>\n",
       "    <tr>\n",
       "      <th>3</th>\n",
       "      <td>Day.Bank</td>\n",
       "      <td>20200929</td>\n",
       "      <td>48620.0</td>\n",
       "      <td>48620.0</td>\n",
       "      <td>48620.0</td>\n",
       "      <td>48620.0</td>\n",
       "      <td>622505781040</td>\n",
       "      <td>12803492</td>\n",
       "      <td>3663</td>\n",
       "      <td>D</td>\n",
       "      <td>51178.0</td>\n",
       "      <td>48620.0</td>\n",
       "    </tr>\n",
       "    <tr>\n",
       "      <th>2</th>\n",
       "      <td>Day.Bank</td>\n",
       "      <td>20200930</td>\n",
       "      <td>47000.0</td>\n",
       "      <td>49950.0</td>\n",
       "      <td>46189.0</td>\n",
       "      <td>46976.0</td>\n",
       "      <td>3584069167706</td>\n",
       "      <td>76296534</td>\n",
       "      <td>24523</td>\n",
       "      <td>D</td>\n",
       "      <td>48620.0</td>\n",
       "      <td>46189.0</td>\n",
       "    </tr>\n",
       "    <tr>\n",
       "      <th>1</th>\n",
       "      <td>Day.Bank</td>\n",
       "      <td>20201003</td>\n",
       "      <td>46100.0</td>\n",
       "      <td>48840.0</td>\n",
       "      <td>44800.0</td>\n",
       "      <td>47198.0</td>\n",
       "      <td>3637361816606</td>\n",
       "      <td>77065385</td>\n",
       "      <td>38583</td>\n",
       "      <td>D</td>\n",
       "      <td>46976.0</td>\n",
       "      <td>47008.0</td>\n",
       "    </tr>\n",
       "    <tr>\n",
       "      <th>0</th>\n",
       "      <td>Day.Bank</td>\n",
       "      <td>20201004</td>\n",
       "      <td>47700.0</td>\n",
       "      <td>47750.0</td>\n",
       "      <td>44839.0</td>\n",
       "      <td>45327.0</td>\n",
       "      <td>2793580937643</td>\n",
       "      <td>61632348</td>\n",
       "      <td>23398</td>\n",
       "      <td>D</td>\n",
       "      <td>47198.0</td>\n",
       "      <td>44839.0</td>\n",
       "    </tr>\n",
       "  </tbody>\n",
       "</table>\n",
       "<p>1512 rows × 12 columns</p>\n",
       "</div>"
      ],
      "text/plain": [
       "      <TICKER>  <DTYYYYMMDD>  <FIRST>   <HIGH>    <LOW>  <CLOSE>  \\\n",
       "1511  Day.Bank      20110712   2000.0   2000.0   1420.0   1611.0   \n",
       "1510  Day.Bank      20110718   1400.0   1499.0   1349.0   1380.0   \n",
       "1509  Day.Bank      20110719   1400.0   1400.0   1330.0   1359.0   \n",
       "1508  Day.Bank      20110720   1368.0   1368.0   1305.0   1318.0   \n",
       "1507  Day.Bank      20110723   1305.0   1322.0   1292.0   1307.0   \n",
       "...        ...           ...      ...      ...      ...      ...   \n",
       "4     Day.Bank      20200928  51178.0  51178.0  51178.0  51178.0   \n",
       "3     Day.Bank      20200929  48620.0  48620.0  48620.0  48620.0   \n",
       "2     Day.Bank      20200930  47000.0  49950.0  46189.0  46976.0   \n",
       "1     Day.Bank      20201003  46100.0  48840.0  44800.0  47198.0   \n",
       "0     Day.Bank      20201004  47700.0  47750.0  44839.0  45327.0   \n",
       "\n",
       "            <VALUE>     <VOL>  <OPENINT> <PER>   <OPEN>   <LAST>  \n",
       "1511    18438010461  11442234       2657     D   1000.0   1499.0  \n",
       "1510     5508636050   3991789        836     D   1521.0   1350.0  \n",
       "1509     3485136683   2565040        740     D   1380.0   1331.0  \n",
       "1508     1705751719   1294658        340     D   1359.0   1310.0  \n",
       "1507     1479387908   1131786        276     D   1318.0   1310.0  \n",
       "...             ...       ...        ...   ...      ...      ...  \n",
       "4      106480844444   2080598       1290     D  53871.0  51178.0  \n",
       "3      622505781040  12803492       3663     D  51178.0  48620.0  \n",
       "2     3584069167706  76296534      24523     D  48620.0  46189.0  \n",
       "1     3637361816606  77065385      38583     D  46976.0  47008.0  \n",
       "0     2793580937643  61632348      23398     D  47198.0  44839.0  \n",
       "\n",
       "[1512 rows x 12 columns]"
      ]
     },
     "execution_count": 5,
     "metadata": {},
     "output_type": "execute_result"
    }
   ],
   "source": [
    "df1=pd.read_csv('Dey.csv')\n",
    "df2=pd.read_csv('Vabesader.csv')\n",
    "df3=df1.iloc[::-1]\n",
    "df4=df2.iloc[::-1]\n",
    "a=range(1,1513)\n",
    "b=range(1,2145)\n",
    "df3"
   ]
  },
  {
   "cell_type": "code",
   "execution_count": 6,
   "metadata": {},
   "outputs": [
    {
     "data": {
      "image/png": "[encoded data removed]",
      "text/plain": [
       "<Figure size 432x288 with 1 Axes>"
      ]
     },
     "metadata": {
      "needs_background": "light"
     },
     "output_type": "display_data"
    }
   ],
   "source": [
    " from matplotlib import pyplot as plt\n",
    "y1=df3['<CLOSE>']\n",
    "y2=df4['<CLOSE>']\n",
    "plt.plot(a,y1)\n",
    "plt.plot(b,y2)\n",
    "plt.xlabel(\"Date(days)\", fontsize=10)\n",
    "plt.ylabel(\"Close Price (Rial)\", fontsize=10)\n",
    "plt.title(\"Comparison of the growth of the prices of Dey and Vabesader for 2009-2020 period\", fontsize=8)\n",
    "plt.legend(['Dey','Vabesader'])\n",
    "plt.savefig('Famelli&Foolad.pdf', bbox_inches='tight')\n",
    "plt.show()"
   ]
  },
  {
   "cell_type": "code",
   "execution_count": 7,
   "metadata": {},
   "outputs": [
    {
     "name": "stdout",
     "output_type": "stream",
     "text": [
      "1210\n"
     ]
    }
   ],
   "source": [
    "## Create a new datdframe with only the Close column\n",
    "data=df3.filter(['<CLOSE>'])\n",
    "#Convert the data to the numpy arrays\n",
    "dataset=data.values\n",
    "#Get the number of rows to train the model on\n",
    "training_data_len=math.ceil(len(dataset)*.8)\n",
    "print(training_data_len)"
   ]
  },
  {
   "cell_type": "code",
   "execution_count": 8,
   "metadata": {},
   "outputs": [
    {
     "name": "stdout",
     "output_type": "stream",
     "text": [
      "[[0.01294801]\n",
      " [0.01003281]\n",
      " [0.00976779]\n",
      " ...\n",
      " [0.58544927]\n",
      " [0.58825088]\n",
      " [0.56463907]]\n"
     ]
    }
   ],
   "source": [
    "# Scale the data\n",
    "scaler=MinMaxScaler(feature_range=(0,1))\n",
    "scaled_data=scaler.fit_transform(dataset)\n",
    "print(scaled_data)\n"
   ]
  },
  {
   "cell_type": "code",
   "execution_count": 9,
   "metadata": {},
   "outputs": [],
   "source": [
    "# Create the training data set\n",
    "# Create the scaled training data set\n",
    "train_data=scaled_data[0:training_data_len,:]\n",
    "#Split the data into x_train and y_train data sets\n",
    "x_train=[]\n",
    "y_train=[]"
   ]
  },
  {
   "cell_type": "code",
   "execution_count": 10,
   "metadata": {},
   "outputs": [],
   "source": [
    "for i in range(60,len(train_data)):\n",
    "    x_train.append(train_data[i-60:i,0])\n",
    "    y_train.append(train_data[i,0])"
   ]
  },
  {
   "cell_type": "code",
   "execution_count": 11,
   "metadata": {},
   "outputs": [],
   "source": [
    "#Convert the x_train and y_train to numpy arrays"
   ]
  },
  {
   "cell_type": "code",
   "execution_count": 12,
   "metadata": {},
   "outputs": [],
   "source": [
    "x_train, y_train=np.array(x_train), np.array(y_train)"
   ]
  },
  {
   "cell_type": "code",
   "execution_count": 13,
   "metadata": {},
   "outputs": [
    {
     "data": {
      "text/plain": [
       "(1150, 60)"
      ]
     },
     "execution_count": 13,
     "metadata": {},
     "output_type": "execute_result"
    }
   ],
   "source": [
    "#Reshape the data\n",
    "x_train.shape"
   ]
  },
  {
   "cell_type": "code",
   "execution_count": 14,
   "metadata": {},
   "outputs": [
    {
     "data": {
      "text/plain": [
       "(1150, 60, 1)"
      ]
     },
     "execution_count": 14,
     "metadata": {},
     "output_type": "execute_result"
    }
   ],
   "source": [
    "x_train=np.reshape(x_train,(x_train.shape[0],x_train.shape[1],1))\n",
    "x_train.shape"
   ]
  },
  {
   "cell_type": "code",
   "execution_count": 15,
   "metadata": {},
   "outputs": [],
   "source": [
    "#Build the LSTM model\n",
    "model=Sequential()\n",
    "model.add(LSTM(50,return_sequences=True, input_shape=(x_train.shape[1],1)))\n",
    "model.add(LSTM(50,return_sequences=False))\n",
    "model.add(Dense(25))\n",
    "model.add(Dense(1))"
   ]
  },
  {
   "cell_type": "code",
   "execution_count": 16,
   "metadata": {},
   "outputs": [],
   "source": [
    "# Compile the model"
   ]
  },
  {
   "cell_type": "code",
   "execution_count": 17,
   "metadata": {},
   "outputs": [],
   "source": [
    "model.compile(optimizer='adam', loss='mean_squared_error')"
   ]
  },
  {
   "cell_type": "code",
   "execution_count": 18,
   "metadata": {},
   "outputs": [],
   "source": [
    "#Train the model"
   ]
  },
  {
   "cell_type": "code",
   "execution_count": 19,
   "metadata": {},
   "outputs": [
    {
     "name": "stdout",
     "output_type": "stream",
     "text": [
      "1150/1150 [==============================] - 28s 24ms/step - loss: 1.2157e-05\n"
     ]
    },
    {
     "data": {
      "text/plain": [
       "<tensorflow.python.keras.callbacks.History at 0x191a4ad0e80>"
      ]
     },
     "execution_count": 19,
     "metadata": {},
     "output_type": "execute_result"
    }
   ],
   "source": [
    "model.fit(x_train,y_train, batch_size=1,epochs=1)"
   ]
  },
  {
   "cell_type": "code",
   "execution_count": 20,
   "metadata": {},
   "outputs": [],
   "source": [
    "#Creating the testing data set\n",
    "#Create a new array containing scaled values from index 1150 to 1512"
   ]
  },
  {
   "cell_type": "code",
   "execution_count": 21,
   "metadata": {},
   "outputs": [],
   "source": [
    "test_data=scaled_data[training_data_len-60:,:]\n",
    "#Create the data sets x_test and y_test\n",
    "x_test=[]\n",
    "y_test=dataset[training_data_len: , :] \n",
    "for i in range(60, len(test_data)):\n",
    "    x_test.append(test_data[i-60:i,0])"
   ]
  },
  {
   "cell_type": "code",
   "execution_count": 22,
   "metadata": {},
   "outputs": [
    {
     "data": {
      "text/plain": [
       "(302, 60)"
      ]
     },
     "execution_count": 22,
     "metadata": {},
     "output_type": "execute_result"
    }
   ],
   "source": [
    "#Convert the data to numpy array\n",
    "x_test=np.array(x_test)\n",
    "x_test.shape"
   ]
  },
  {
   "cell_type": "code",
   "execution_count": 23,
   "metadata": {},
   "outputs": [],
   "source": [
    "#Reshape the data\n",
    "x_test = np.reshape(x_test, (x_test.shape[0],x_test.shape[1], 1))"
   ]
  },
  {
   "cell_type": "code",
   "execution_count": 24,
   "metadata": {},
   "outputs": [],
   "source": [
    "#Get the model predicted values"
   ]
  },
  {
   "cell_type": "code",
   "execution_count": 25,
   "metadata": {},
   "outputs": [],
   "source": [
    "predictions=model.predict(x_test)\n",
    "predictions=scaler.inverse_transform(predictions)"
   ]
  },
  {
   "cell_type": "code",
   "execution_count": 26,
   "metadata": {},
   "outputs": [],
   "source": [
    "# Get the root mean squared error (RMSE)"
   ]
  },
  {
   "cell_type": "code",
   "execution_count": 27,
   "metadata": {},
   "outputs": [],
   "source": [
    "#rmse=np.sqrt(np.mean(predictions-y_test)**2)\n",
    "#rmse"
   ]
  },
  {
   "cell_type": "code",
   "execution_count": 28,
   "metadata": {},
   "outputs": [],
   "source": [
    "# Plot the data"
   ]
  },
  {
   "cell_type": "code",
   "execution_count": 29,
   "metadata": {},
   "outputs": [
    {
     "name": "stderr",
     "output_type": "stream",
     "text": [
      "<ipython-input-29-ceb9398f7c54>:3: SettingWithCopyWarning: \n",
      "A value is trying to be set on a copy of a slice from a DataFrame.\n",
      "Try using .loc[row_indexer,col_indexer] = value instead\n",
      "\n",
      "See the caveats in the documentation: https://pandas.pydata.org/pandas-docs/stable/user_guide/indexing.html#returning-a-view-versus-a-copy\n",
      "  valid['Predictions']=predictions\n"
     ]
    },
    {
     "data": {
      "image/png": "[encoded data removed]",
      "text/plain": [
       "<Figure size 1152x576 with 1 Axes>"
      ]
     },
     "metadata": {
      "needs_background": "light"
     },
     "output_type": "display_data"
    }
   ],
   "source": [
    "train=data[:training_data_len]\n",
    "valid=data[training_data_len:]\n",
    "valid['Predictions']=predictions\n",
    "#Visualize the data\n",
    "c=range(1,1211)\n",
    "d=range(1211,1513)\n",
    "plt.figure(figsize=(16,8))\n",
    "plt.title('Modelling the trend of Dey stock')\n",
    "plt.xlabel('Date(days)', fontsize=18)\n",
    "plt.ylabel('Close price (Rial)', fontsize=18)\n",
    "plt.plot(c,train['<CLOSE>'])\n",
    "plt.plot(d,valid[['<CLOSE>','Predictions']])\n",
    "plt.legend(['train','validation', 'prediction'])\n",
    "plt.savefig('Famelli&Foolad.pdf', bbox_inches='tight')\n",
    "plt.show()\n"
   ]
  },
  {
   "cell_type": "code",
   "execution_count": 30,
   "metadata": {},
   "outputs": [],
   "source": [
    "# Show the valid and prediction"
   ]
  },
  {
   "cell_type": "code",
   "execution_count": 32,
   "metadata": {},
   "outputs": [
    {
     "data": {
      "text/html": [
       "<div>\n",
       "<style scoped>\n",
       "    .dataframe tbody tr th:only-of-type {\n",
       "        vertical-align: middle;\n",
       "    }\n",
       "\n",
       "    .dataframe tbody tr th {\n",
       "        vertical-align: top;\n",
       "    }\n",
       "\n",
       "    .dataframe thead th {\n",
       "        text-align: right;\n",
       "    }\n",
       "</style>\n",
       "<table border=\"1\" class=\"dataframe\">\n",
       "  <thead>\n",
       "    <tr style=\"text-align: right;\">\n",
       "      <th></th>\n",
       "      <th>&lt;CLOSE&gt;</th>\n",
       "      <th>Predictions</th>\n",
       "    </tr>\n",
       "  </thead>\n",
       "  <tbody>\n",
       "    <tr>\n",
       "      <th>301</th>\n",
       "      <td>1356.0</td>\n",
       "      <td>1373.828491</td>\n",
       "    </tr>\n",
       "    <tr>\n",
       "      <th>300</th>\n",
       "      <td>1413.0</td>\n",
       "      <td>1374.037354</td>\n",
       "    </tr>\n",
       "    <tr>\n",
       "      <th>299</th>\n",
       "      <td>1435.0</td>\n",
       "      <td>1375.845947</td>\n",
       "    </tr>\n",
       "    <tr>\n",
       "      <th>298</th>\n",
       "      <td>1374.0</td>\n",
       "      <td>1380.163818</td>\n",
       "    </tr>\n",
       "    <tr>\n",
       "      <th>297</th>\n",
       "      <td>1440.0</td>\n",
       "      <td>1380.318359</td>\n",
       "    </tr>\n",
       "    <tr>\n",
       "      <th>...</th>\n",
       "      <td>...</td>\n",
       "      <td>...</td>\n",
       "    </tr>\n",
       "    <tr>\n",
       "      <th>4</th>\n",
       "      <td>51178.0</td>\n",
       "      <td>41547.300781</td>\n",
       "    </tr>\n",
       "    <tr>\n",
       "      <th>3</th>\n",
       "      <td>48620.0</td>\n",
       "      <td>42256.445312</td>\n",
       "    </tr>\n",
       "    <tr>\n",
       "      <th>2</th>\n",
       "      <td>46976.0</td>\n",
       "      <td>42532.339844</td>\n",
       "    </tr>\n",
       "    <tr>\n",
       "      <th>1</th>\n",
       "      <td>47198.0</td>\n",
       "      <td>42427.003906</td>\n",
       "    </tr>\n",
       "    <tr>\n",
       "      <th>0</th>\n",
       "      <td>45327.0</td>\n",
       "      <td>42129.718750</td>\n",
       "    </tr>\n",
       "  </tbody>\n",
       "</table>\n",
       "<p>302 rows × 2 columns</p>\n",
       "</div>"
      ],
      "text/plain": [
       "     <CLOSE>   Predictions\n",
       "301   1356.0   1373.828491\n",
       "300   1413.0   1374.037354\n",
       "299   1435.0   1375.845947\n",
       "298   1374.0   1380.163818\n",
       "297   1440.0   1380.318359\n",
       "..       ...           ...\n",
       "4    51178.0  41547.300781\n",
       "3    48620.0  42256.445312\n",
       "2    46976.0  42532.339844\n",
       "1    47198.0  42427.003906\n",
       "0    45327.0  42129.718750\n",
       "\n",
       "[302 rows x 2 columns]"
      ]
     },
     "execution_count": 32,
     "metadata": {},
     "output_type": "execute_result"
    }
   ],
   "source": [
    "valid"
   ]
  },
  {
   "cell_type": "code",
   "execution_count": 35,
   "metadata": {},
   "outputs": [],
   "source": [
    "# Create new data fram"
   ]
  },
  {
   "cell_type": "code",
   "execution_count": 36,
   "metadata": {},
   "outputs": [],
   "source": [
    "new_def=df3.filter(['<CLOSE>'])"
   ]
  },
  {
   "cell_type": "code",
   "execution_count": 37,
   "metadata": {},
   "outputs": [],
   "source": [
    "# Get the last 60 day closing price values and convert the data frame to an array"
   ]
  },
  {
   "cell_type": "code",
   "execution_count": 39,
   "metadata": {},
   "outputs": [],
   "source": [
    "last_60_days=new_def[-60:].values"
   ]
  },
  {
   "cell_type": "code",
   "execution_count": 40,
   "metadata": {},
   "outputs": [],
   "source": [
    "#Scale the data to be values between 0 and 1"
   ]
  },
  {
   "cell_type": "code",
   "execution_count": 41,
   "metadata": {},
   "outputs": [],
   "source": [
    "last_60_days_scaled=scaler.transform(last_60_days)"
   ]
  },
  {
   "cell_type": "code",
   "execution_count": 42,
   "metadata": {},
   "outputs": [],
   "source": [
    "# Create an empty list"
   ]
  },
  {
   "cell_type": "code",
   "execution_count": 43,
   "metadata": {},
   "outputs": [],
   "source": [
    "X_test=[]"
   ]
  },
  {
   "cell_type": "code",
   "execution_count": 44,
   "metadata": {},
   "outputs": [],
   "source": [
    "# Append the past 60 days"
   ]
  },
  {
   "cell_type": "code",
   "execution_count": null,
   "metadata": {},
   "outputs": [],
   "source": [
    "X_"
   ]
  }
 ],
 "metadata": {
  "kernelspec": {
   "display_name": "Python 3",
   "language": "python",
   "name": "python3"
  },
  "language_info": {
   "codemirror_mode": {
    "name": "ipython",
    "version": 3
   },
   "file_extension": ".py",
   "mimetype": "text/x-python",
   "name": "python",
   "nbconvert_exporter": "python",
   "pygments_lexer": "ipython3",
   "version": "3.8.3"
  }
 },
 "nbformat": 4,
 "nbformat_minor": 2
}
