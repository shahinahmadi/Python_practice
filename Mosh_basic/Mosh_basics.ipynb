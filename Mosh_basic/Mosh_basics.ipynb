{
 "cells": [
  {
   "cell_type": "markdown",
   "metadata": {},
   "source": [
    "# Some coding practice from Mosh Hamedani tutorial"
   ]
  },
  {
   "cell_type": "markdown",
   "metadata": {},
   "source": [
    "## Find the maximum value a list"
   ]
  },
  {
   "cell_type": "code",
   "execution_count": 8,
   "metadata": {},
   "outputs": [
    {
     "name": "stdout",
     "output_type": "stream",
     "text": [
      "6\n"
     ]
    }
   ],
   "source": [
    "mylist=[1,2,3,4,4,2,3,6]\n",
    "maximum=max(mylist)\n",
    "print(maximum)\n"
   ]
  },
  {
   "cell_type": "code",
   "execution_count": 9,
   "metadata": {},
   "outputs": [
    {
     "name": "stdout",
     "output_type": "stream",
     "text": [
      "6\n"
     ]
    }
   ],
   "source": [
    "mylist=[1,2,3,4,4,2,3,6]\n",
    "maximum=0\n",
    "for i in mylist:\n",
    "    if i>maximum:\n",
    "        maximum=i\n",
    "print(maximum)"
   ]
  },
  {
   "cell_type": "markdown",
   "metadata": {},
   "source": [
    "### Getting the input"
   ]
  },
  {
   "cell_type": "markdown",
   "metadata": {},
   "source": [
    "#### Get a name as an input and count the number of character to see if the length of name OK or not"
   ]
  },
  {
   "cell_type": "code",
   "execution_count": 10,
   "metadata": {
    "scrolled": true
   },
   "outputs": [
    {
     "name": "stdout",
     "output_type": "stream",
     "text": [
      "Name:\n",
      "That is not OK\n"
     ]
    }
   ],
   "source": [
    "Name= input(\"Name:\")\n",
    "if 5<len(Name)<15:\n",
    "    print(\"That is OK\")\n",
    "else: \n",
    "    print(\"That is not OK\")\n"
   ]
  },
  {
   "cell_type": "markdown",
   "metadata": {},
   "source": [
    "### Write a code using boolian to get an input and see if a car started or stopped"
   ]
  },
  {
   "cell_type": "code",
   "execution_count": 11,
   "metadata": {},
   "outputs": [
    {
     "name": "stdout",
     "output_type": "stream",
     "text": [
      "Enter your command:\n",
      "I do not understand your language\n"
     ]
    }
   ],
   "source": [
    "command=input(\"Enter your command:\")\n",
    "started=True\n",
    "if command==\"Start the car\":\n",
    "    if started:\n",
    "        print(\"the car is already started\")\n",
    "    else:\n",
    "        print(\"The car should start\")\n",
    "elif command==\"Stop the car\":\n",
    "    if not started:\n",
    "        print(\"The car is already stopped\")\n",
    "    else:\n",
    "        print(\"The car should be stopped\")\n",
    "else:\n",
    "    print(\"I do not understand your language\")"
   ]
  },
  {
   "cell_type": "markdown",
   "metadata": {},
   "source": [
    "### Guess the secret number"
   ]
  },
  {
   "cell_type": "code",
   "execution_count": null,
   "metadata": {},
   "outputs": [
    {
     "name": "stdout",
     "output_type": "stream",
     "text": [
      "Enter your number: 4\n",
      "Enter your number: 10\n"
     ]
    }
   ],
   "source": [
    "my_number=10\n",
    "guess_number=5\n",
    "repeat_number=0\n",
    "while repeat_number<guess_number:\n",
    "    your_number=input(\"Enter your number: \")\n",
    "    repeat_number+=1\n",
    "    if your_number==my_number:\n",
    "        print(\"Well done, That is correct\");\n",
    "        break\n",
    "else:\n",
    "    print(\"The game is over\")\n"
   ]
  },
  {
   "cell_type": "markdown",
   "metadata": {},
   "source": [
    "### Write a code which takes the list of numbers and removes the repeated ones"
   ]
  },
  {
   "cell_type": "code",
   "execution_count": 5,
   "metadata": {},
   "outputs": [
    {
     "name": "stdout",
     "output_type": "stream",
     "text": [
      "[1, 2, 3, 4, 5, 8, 43]\n"
     ]
    }
   ],
   "source": [
    "list=[1,1,2,3,4,5,1,2,3,8,3,4,43,3,2,3,2,3,4,2]\n",
    "new_list=[]\n",
    "for i in list:\n",
    "    if i not in new_list:\n",
    "        new_list.append(i)\n",
    "print(new_list)\n"
   ]
  },
  {
   "cell_type": "markdown",
   "metadata": {},
   "source": [
    "### Take a created module and use it in your code (kg to lbs convertor)"
   ]
  },
  {
   "cell_type": "code",
   "execution_count": 8,
   "metadata": {},
   "outputs": [
    {
     "name": "stdout",
     "output_type": "stream",
     "text": [
      "176.3696\n"
     ]
    }
   ],
   "source": [
    "import convertor\n",
    "print(convertor.kg_to_lbs(80))"
   ]
  },
  {
   "cell_type": "markdown",
   "metadata": {},
   "source": [
    "### Take another created module and use it in your code (Maximum finder)"
   ]
  },
  {
   "cell_type": "code",
   "execution_count": 9,
   "metadata": {},
   "outputs": [
    {
     "name": "stdout",
     "output_type": "stream",
     "text": [
      "<built-in function max>\n",
      "14\n"
     ]
    }
   ],
   "source": [
    "import utils\n",
    "print(utils.find_max([1,2,3,4,14,12,13]))"
   ]
  },
  {
   "cell_type": "markdown",
   "metadata": {},
   "source": [
    "### Exception error: Exception error used to exclude some error value from the code"
   ]
  },
  {
   "cell_type": "code",
   "execution_count": null,
   "metadata": {},
   "outputs": [],
   "source": [
    "try:\n",
    "    example=int(input(\"-> \"))\n",
    "    print(example)\n",
    "\n",
    "except: ValueError"
   ]
  },
  {
   "cell_type": "code",
   "execution_count": null,
   "metadata": {},
   "outputs": [],
   "source": [
    "# Another example for exception\n",
    "try:\n",
    "    number=int(input(\": \"))\n",
    "    income=1000\n",
    "    daily_income=income/number\n",
    "    print(daily_income)\n",
    "\n",
    "except:  ZeroDivisionError"
   ]
  },
  {
   "cell_type": "markdown",
   "metadata": {},
   "source": [
    "### Example of class"
   ]
  },
  {
   "cell_type": "code",
   "execution_count": 6,
   "metadata": {},
   "outputs": [
    {
     "name": "stdout",
     "output_type": "stream",
     "text": [
      "I love you\n",
      " You are the best friend \n"
     ]
    }
   ],
   "source": [
    "# class example; creating type using class\n",
    "class  Point:\n",
    "        def draw(self):\n",
    "            print(\"I love you\")\n",
    "        def read(self):\n",
    "            print(\" You are the best friend \")\n",
    "\n",
    "\n",
    "point1=Point()\n",
    "point1.draw()\n",
    "point1.read()\n",
    "#print(point1)\n",
    "\n",
    "#point2=Point()\n",
    "#point2.read()"
   ]
  },
  {
   "cell_type": "code",
   "execution_count": 13,
   "metadata": {},
   "outputs": [
    {
     "name": "stdout",
     "output_type": "stream",
     "text": [
      "1\n",
      "I love you\n",
      " You are the best \n",
      "<__main__.Point object at 0x000001F128D029A0>\n"
     ]
    }
   ],
   "source": [
    "# Construction\n",
    "class  Point:\n",
    "    def __init__(self,x,y):\n",
    "        self.x=x\n",
    "        self.y=y\n",
    "\n",
    "\n",
    "    def draw(self):\n",
    "        print(\"I love you\")\n",
    "        print(\" You are the best \")\n",
    "\n",
    "\n",
    "point1=Point(1,20)\n",
    "y=point1.x\n",
    "print(y)\n",
    "point1.draw()\n",
    "print(point1)"
   ]
  },
  {
   "cell_type": "code",
   "execution_count": 15,
   "metadata": {},
   "outputs": [
    {
     "name": "stdout",
     "output_type": "stream",
     "text": [
      "John Smith\n",
      "talk John Smith\n"
     ]
    }
   ],
   "source": [
    "class Person:\n",
    "    def __init__(self,name):\n",
    "        self.name=name\n",
    "\n",
    "\n",
    "    def talk(self):\n",
    "        print(f\"talk {self.name}\")\n",
    "\n",
    "\n",
    "\n",
    "John=Person(\"John Smith\")\n",
    "print(John.name)\n",
    "John.talk()"
   ]
  },
  {
   "cell_type": "code",
   "execution_count": null,
   "metadata": {},
   "outputs": [],
   "source": []
  }
 ],
 "metadata": {
  "kernelspec": {
   "display_name": "Python 3",
   "language": "python",
   "name": "python3"
  },
  "language_info": {
   "codemirror_mode": {
    "name": "ipython",
    "version": 3
   },
   "file_extension": ".py",
   "mimetype": "text/x-python",
   "name": "python",
   "nbconvert_exporter": "python",
   "pygments_lexer": "ipython3",
   "version": "3.8.3"
  }
 },
 "nbformat": 4,
 "nbformat_minor": 4
}
