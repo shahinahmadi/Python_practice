{
 "cells": [
  {
   "cell_type": "code",
   "execution_count": 1,
   "metadata": {},
   "outputs": [
    {
     "name": "stdout",
     "output_type": "stream",
     "text": [
      "This is outside of the function\n"
     ]
    }
   ],
   "source": [
    "# a collections of instructions\n",
    "# a collection of code\n",
    "def function1():\n",
    "    print(\"ahhhh\")\n",
    "    print(\"ahhhh 2\")\n",
    "print(\"This is outside of the function\")\n"
   ]
  },
  {
   "cell_type": "code",
   "execution_count": 2,
   "metadata": {},
   "outputs": [
    {
     "name": "stdout",
     "output_type": "stream",
     "text": [
      "ahhhh\n",
      "ahhhh 2\n"
     ]
    }
   ],
   "source": [
    "function1()"
   ]
  },
  {
   "cell_type": "code",
   "execution_count": 3,
   "metadata": {},
   "outputs": [
    {
     "name": "stdout",
     "output_type": "stream",
     "text": [
      "ahhhh\n",
      "ahhhh 2\n",
      "ahhhh\n",
      "ahhhh 2\n"
     ]
    }
   ],
   "source": [
    "function1()\n",
    "function1()"
   ]
  },
  {
   "cell_type": "code",
   "execution_count": 8,
   "metadata": {},
   "outputs": [],
   "source": [
    "# a mapping\n",
    "def function2(x):\n",
    "    return 2*x"
   ]
  },
  {
   "cell_type": "code",
   "execution_count": 10,
   "metadata": {},
   "outputs": [
    {
     "name": "stdout",
     "output_type": "stream",
     "text": [
      "6\n"
     ]
    }
   ],
   "source": [
    "a=function2(3)\n",
    "print(a)\n",
    "# return value"
   ]
  },
  {
   "cell_type": "code",
   "execution_count": 11,
   "metadata": {},
   "outputs": [
    {
     "name": "stdout",
     "output_type": "stream",
     "text": [
      "8\n"
     ]
    }
   ],
   "source": [
    "b=function2(4)\n",
    "print(b)"
   ]
  },
  {
   "cell_type": "code",
   "execution_count": 12,
   "metadata": {},
   "outputs": [],
   "source": [
    "def function3(x,y):\n",
    "    return x+y\n"
   ]
  },
  {
   "cell_type": "code",
   "execution_count": 13,
   "metadata": {},
   "outputs": [],
   "source": [
    "e=function3(1,2)"
   ]
  },
  {
   "cell_type": "code",
   "execution_count": 15,
   "metadata": {},
   "outputs": [
    {
     "name": "stdout",
     "output_type": "stream",
     "text": [
      "3\n"
     ]
    }
   ],
   "source": [
    "print(e)"
   ]
  },
  {
   "cell_type": "code",
   "execution_count": 16,
   "metadata": {},
   "outputs": [],
   "source": [
    "def function4(x):\n",
    "    print(x)\n",
    "    print(\"Still in this function\")\n",
    "    return 3*x"
   ]
  },
  {
   "cell_type": "code",
   "execution_count": 17,
   "metadata": {},
   "outputs": [
    {
     "name": "stdout",
     "output_type": "stream",
     "text": [
      "4\n",
      "Still in this function\n"
     ]
    }
   ],
   "source": [
    "f=function4(4)"
   ]
  },
  {
   "cell_type": "code",
   "execution_count": 18,
   "metadata": {},
   "outputs": [
    {
     "name": "stdout",
     "output_type": "stream",
     "text": [
      "12\n"
     ]
    }
   ],
   "source": [
    "print(f)"
   ]
  },
  {
   "cell_type": "code",
   "execution_count": 19,
   "metadata": {},
   "outputs": [],
   "source": [
    "def function5(some_argument):\n",
    "    print(some_argument)\n",
    "    print(\"weeeee\")"
   ]
  },
  {
   "cell_type": "code",
   "execution_count": 20,
   "metadata": {},
   "outputs": [
    {
     "name": "stdout",
     "output_type": "stream",
     "text": [
      "4\n",
      "weeeee\n"
     ]
    }
   ],
   "source": [
    "function5(4)"
   ]
  },
  {
   "cell_type": "code",
   "execution_count": 50,
   "metadata": {},
   "outputs": [],
   "source": [
    "# BMI calculator\n",
    "name1=\"YK\"\n",
    "height_m1 = 2\n",
    "weight_kg1=90\n",
    "\n",
    "\n",
    "name2=\"YK's sister\"\n",
    "height_m2=1.8\n",
    "weight_kg2=70\n",
    "\n",
    "\n",
    "name3=\"YK's brother\"\n",
    "height_m3=2.5\n",
    "weight_kg3=160"
   ]
  },
  {
   "cell_type": "code",
   "execution_count": 51,
   "metadata": {},
   "outputs": [],
   "source": [
    "def bmi_calculator(name, height_m, weight_kg):\n",
    "    bmi=weight_kg/(height_m**2)\n",
    "    print(\"bmi: \")\n",
    "    print(bmi)\n",
    "    if bmi<25:\n",
    "        return name+ \"not overweight \"\n",
    "    else:\n",
    "        return name + \"is overweight\""
   ]
  },
  {
   "cell_type": "code",
   "execution_count": 52,
   "metadata": {},
   "outputs": [
    {
     "name": "stdout",
     "output_type": "stream",
     "text": [
      "bmi: \n",
      "22.5\n",
      "bmi: \n",
      "21.604938271604937\n",
      "bmi: \n",
      "25.6\n"
     ]
    }
   ],
   "source": [
    "result1=bmi_calculator(name1, height_m1, weight_kg1)\n",
    "result2=bmi_calculator(name2, height_m2, weight_kg2)\n",
    "result3=bmi_calculator(name3, height_m3, weight_kg3)\n"
   ]
  },
  {
   "cell_type": "code",
   "execution_count": 53,
   "metadata": {},
   "outputs": [
    {
     "name": "stdout",
     "output_type": "stream",
     "text": [
      "YKnot overweight \n",
      "YK's sisternot overweight \n",
      "YK's brotheris overweight\n"
     ]
    }
   ],
   "source": [
    "print(result1)\n",
    "print(result2)\n",
    "print(result3)"
   ]
  },
  {
   "cell_type": "code",
   "execution_count": 54,
   "metadata": {},
   "outputs": [],
   "source": [
    "def function3(mile):\n",
    "    Kilometer=1.6*mile\n",
    "    return Kilometer\n",
    "\n",
    "\n"
   ]
  },
  {
   "cell_type": "code",
   "execution_count": 57,
   "metadata": {},
   "outputs": [],
   "source": [
    "Km=function3(2)"
   ]
  },
  {
   "cell_type": "code",
   "execution_count": 58,
   "metadata": {},
   "outputs": [
    {
     "name": "stdout",
     "output_type": "stream",
     "text": [
      "3.2\n"
     ]
    }
   ],
   "source": [
    "print(Km)"
   ]
  },
  {
   "cell_type": "code",
   "execution_count": null,
   "metadata": {},
   "outputs": [],
   "source": []
  }
 ],
 "metadata": {
  "kernelspec": {
   "display_name": "Python 3",
   "language": "python",
   "name": "python3"
  },
  "language_info": {
   "codemirror_mode": {
    "name": "ipython",
    "version": 3
   },
   "file_extension": ".py",
   "mimetype": "text/x-python",
   "name": "python",
   "nbconvert_exporter": "python",
   "pygments_lexer": "ipython3",
   "version": "3.8.3"
  }
 },
 "nbformat": 4,
 "nbformat_minor": 4
}
